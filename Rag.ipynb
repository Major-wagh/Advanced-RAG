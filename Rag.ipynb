{
 "cells": [
  {
   "cell_type": "code",
   "execution_count": 1,
   "metadata": {},
   "outputs": [],
   "source": [
    "import os\n",
    "from tqdm import tqdm\n",
    "from langchain.document_loaders import PyPDFDirectoryLoader\n",
    "from langchain.embeddings import HuggingFaceEmbeddings\n",
    "from langchain_core.output_parsers import StrOutputParser\n",
    "from langchain_core.prompts import PromptTemplate\n",
    "from langchain_core.runnables import RunnableLambda, RunnablePassthrough, RunnableParallel\n",
    "from langchain_community.vectorstores import Milvus\n",
    "from langchain_community.embeddings import OllamaEmbeddings"
   ]
  },
  {
   "cell_type": "code",
   "execution_count": 2,
   "metadata": {},
   "outputs": [],
   "source": [
    "embeddings = (\n",
    "    OllamaEmbeddings(model=\"nomic-embed-text\",base_url=\"http://localhost:11434\")\n",
    ")  "
   ]
  },
  {
   "cell_type": "code",
   "execution_count": 3,
   "metadata": {
    "collapsed": true,
    "jupyter": {
     "outputs_hidden": true
    }
   },
   "outputs": [],
   "source": [
    "loader = PyPDFDirectoryLoader(\"./pdfs-master\")\n",
    "docs = loader.load()"
   ]
  },
  {
   "cell_type": "code",
   "execution_count": 7,
   "metadata": {},
   "outputs": [
    {
     "name": "stdout",
     "output_type": "stream",
     "text": [
      "Document splitting a in process\n",
      "Document splitted\n"
     ]
    },
    {
     "data": {
      "text/plain": [
       "Document(metadata={'source': 'pdfs-master\\\\NVIDIA - Accelerated Computing and the Democratization of Supercomputing Technical Overview (sc18-tesla-democratization-tech-overview-r4-web).pdf', 'page': 1}, page_content='ACCELERATED COMPUTING AND THE DEMOCRATIZATION OF SUPERCOMPUTING | TECHNICAL OVERVIEW | 2Table of Contents:\\nThe Accelerated Data Center \\nOptimizing Data Center Productivity\\nSame Throughput with Fewer Server Nodes\\nAren’t GPU-Accelerated Servers More Expensive? \\nWhat About Operational Cost?\\nWhat if the CPU is Given Away at No Cost?\\nMaximizing Budget and Throughput\\nLower Cost with  Acceleration\\nDemocratizing the Supercomputer3\\n6\\n7\\n8\\n10\\n11\\n12\\n13\\n14')"
      ]
     },
     "execution_count": 7,
     "metadata": {},
     "output_type": "execute_result"
    }
   ],
   "source": [
    "from langchain.text_splitter import RecursiveCharacterTextSplitter\n",
    "\n",
    "text_splitter= RecursiveCharacterTextSplitter(\n",
    "    chunk_size=1000,\n",
    "    chunk_overlap=100,\n",
    "    length_function=len\n",
    ")   \n",
    "\n",
    "print(\"Document splitting a in process\")\n",
    "docs = text_splitter.split_documents(docs)\n",
    "print(\"Document splitted\")\n",
    "docs[1]"
   ]
  },
  {
   "cell_type": "code",
   "execution_count": 16,
   "metadata": {},
   "outputs": [
    {
     "name": "stdout",
     "output_type": "stream",
     "text": [
      "start connecting to Milvus\n"
     ]
    }
   ],
   "source": [
    "from langchain_community.vectorstores import Milvus\n",
    "MILVUS_PORT=\"19530\"\n",
    "MILVUS_HOST=\"127.0.0.1\"\n",
    " \n",
    "print(\"start connecting to Milvus\")\n",
    "vector_db = Milvus.from_documents(\n",
    "    docs,\n",
    "    embeddings,\n",
    "    connection_args={\"host\": MILVUS_HOST ,\"port\": MILVUS_PORT,\"db_name\":\"default\"},\n",
    "    collection_name=\"NvidiaPDF\",\n",
    ")"
   ]
  },
  {
   "cell_type": "code",
   "execution_count": 17,
   "metadata": {},
   "outputs": [],
   "source": [
    "retriever = vector_db.as_retriever(search_kwargs={\"k\": 3})"
   ]
  },
  {
   "cell_type": "code",
   "execution_count": 19,
   "metadata": {},
   "outputs": [
    {
     "name": "stderr",
     "output_type": "stream",
     "text": [
      "c:\\Users\\TUF GAMING\\miniconda3\\envs\\rag\\Lib\\site-packages\\sentence_transformers\\cross_encoder\\CrossEncoder.py:11: TqdmWarning: IProgress not found. Please update jupyter and ipywidgets. See https://ipywidgets.readthedocs.io/en/stable/user_install.html\n",
      "  from tqdm.autonotebook import tqdm, trange\n"
     ]
    }
   ],
   "source": [
    "from redisvl.extensions.llmcache import SemanticCache\n",
    " \n",
    "llmcache = SemanticCache(\n",
    "    name=\"PDFs\",\n",
    "    prefix=\"PDFs\",\n",
    "    redis_url=\"redis://localhost:6379\",\n",
    "    distance_threshold=0.1\n",
    ")\n",
    "llmcache.set_threshold(0.1)"
   ]
  },
  {
   "cell_type": "code",
   "execution_count": 20,
   "metadata": {},
   "outputs": [
    {
     "name": "stdout",
     "output_type": "stream",
     "text": [
      "\u001b[32m15:20:25\u001b[0m \u001b[34m[RedisVL]\u001b[0m \u001b[1;30mINFO\u001b[0m   Indices:\n",
      "\u001b[32m15:20:25\u001b[0m \u001b[34m[RedisVL]\u001b[0m \u001b[1;30mINFO\u001b[0m   1. PDFs\n"
     ]
    }
   ],
   "source": [
    "!rvl index listall --host localhost --port 6379"
   ]
  },
  {
   "cell_type": "code",
   "execution_count": null,
   "metadata": {},
   "outputs": [],
   "source": []
  }
 ],
 "metadata": {
  "kernelspec": {
   "display_name": "Python 3 (ipykernel)",
   "language": "python",
   "name": "python3"
  },
  "language_info": {
   "codemirror_mode": {
    "name": "ipython",
    "version": 3
   },
   "file_extension": ".py",
   "mimetype": "text/x-python",
   "name": "python",
   "nbconvert_exporter": "python",
   "pygments_lexer": "ipython3",
   "version": "3.12.4"
  }
 },
 "nbformat": 4,
 "nbformat_minor": 4
}
